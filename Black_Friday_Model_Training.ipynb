{
  "nbformat": 4,
  "nbformat_minor": 0,
  "metadata": {
    "colab": {
      "name": "Black Friday Model Training.ipynb",
      "provenance": [],
      "collapsed_sections": [],
      "machine_shape": "hm",
      "authorship_tag": "ABX9TyOOd51TiOhCdFgWHDR3AHhS",
      "include_colab_link": true
    },
    "kernelspec": {
      "name": "python3",
      "display_name": "Python 3"
    }
  },
  "cells": [
    {
      "cell_type": "markdown",
      "metadata": {
        "id": "view-in-github",
        "colab_type": "text"
      },
      "source": [
        "<a href=\"https://colab.research.google.com/github/Puru35/Black-Friday-Sales-Prediction/blob/master/Black_Friday_Model_Training.ipynb\" target=\"_parent\"><img src=\"https://colab.research.google.com/assets/colab-badge.svg\" alt=\"Open In Colab\"/></a>"
      ]
    },
    {
      "cell_type": "markdown",
      "metadata": {
        "id": "6dynwK7vtUAC",
        "colab_type": "text"
      },
      "source": [
        "This is the Third and final notebook in this project. In this notebook we will train various models to get the best accuracy while predicting the price of an item on black friday sale. \n",
        "\n",
        "The conclusion of the full project will be at the end of this notebook."
      ]
    },
    {
      "cell_type": "code",
      "metadata": {
        "id": "_ln1xnyEdmuo",
        "colab_type": "code",
        "colab": {}
      },
      "source": [
        "import pandas as pd\n",
        "import numpy as np\n",
        "from sklearn.model_selection import train_test_split\n",
        "from sklearn.preprocessing import OneHotEncoder, MinMaxScaler, StandardScaler\n",
        "import matplotlib.pyplot as plt\n",
        "import seaborn as sns\n",
        "from sklearn import datasets, linear_model, metrics\n",
        "from sklearn.linear_model import LinearRegression\n",
        "from sklearn import preprocessing, svm \n",
        "from sklearn.tree import DecisionTreeRegressor\n",
        "from sklearn.ensemble import RandomForestRegressor, GradientBoostingRegressor\n",
        "import tensorflow as tf\n",
        "from tensorflow import keras"
      ],
      "execution_count": 0,
      "outputs": []
    },
    {
      "cell_type": "markdown",
      "metadata": {
        "id": "HhXJvLixuINS",
        "colab_type": "text"
      },
      "source": [
        "## Importing the cleaned Dataset"
      ]
    },
    {
      "cell_type": "code",
      "metadata": {
        "id": "BBXSj-dvdxjd",
        "colab_type": "code",
        "colab": {}
      },
      "source": [
        "data = pd.read_csv(\"Black Friday cleaned Data set.csv\")"
      ],
      "execution_count": 0,
      "outputs": []
    },
    {
      "cell_type": "code",
      "metadata": {
        "id": "8Zmgq5OPeRos",
        "colab_type": "code",
        "outputId": "55c82b77-0107-434e-914b-ea3052d62b07",
        "colab": {
          "base_uri": "https://localhost:8080/",
          "height": 422
        }
      },
      "source": [
        "data"
      ],
      "execution_count": 3,
      "outputs": [
        {
          "output_type": "execute_result",
          "data": {
            "text/html": [
              "<div>\n",
              "<style scoped>\n",
              "    .dataframe tbody tr th:only-of-type {\n",
              "        vertical-align: middle;\n",
              "    }\n",
              "\n",
              "    .dataframe tbody tr th {\n",
              "        vertical-align: top;\n",
              "    }\n",
              "\n",
              "    .dataframe thead th {\n",
              "        text-align: right;\n",
              "    }\n",
              "</style>\n",
              "<table border=\"1\" class=\"dataframe\">\n",
              "  <thead>\n",
              "    <tr style=\"text-align: right;\">\n",
              "      <th></th>\n",
              "      <th>Gender</th>\n",
              "      <th>Age</th>\n",
              "      <th>Occupation</th>\n",
              "      <th>City_Category</th>\n",
              "      <th>Stay_In_Current_City_Years</th>\n",
              "      <th>Marital_Status</th>\n",
              "      <th>Product_Category_1</th>\n",
              "      <th>Product_Category_2</th>\n",
              "      <th>Product_Category_3</th>\n",
              "      <th>Purchase</th>\n",
              "    </tr>\n",
              "  </thead>\n",
              "  <tbody>\n",
              "    <tr>\n",
              "      <th>0</th>\n",
              "      <td>0</td>\n",
              "      <td>55</td>\n",
              "      <td>10</td>\n",
              "      <td>2</td>\n",
              "      <td>2</td>\n",
              "      <td>0</td>\n",
              "      <td>3</td>\n",
              "      <td>0</td>\n",
              "      <td>0</td>\n",
              "      <td>8370</td>\n",
              "    </tr>\n",
              "    <tr>\n",
              "      <th>1</th>\n",
              "      <td>0</td>\n",
              "      <td>55</td>\n",
              "      <td>10</td>\n",
              "      <td>2</td>\n",
              "      <td>2</td>\n",
              "      <td>0</td>\n",
              "      <td>1</td>\n",
              "      <td>6</td>\n",
              "      <td>14</td>\n",
              "      <td>15200</td>\n",
              "    </tr>\n",
              "    <tr>\n",
              "      <th>2</th>\n",
              "      <td>0</td>\n",
              "      <td>55</td>\n",
              "      <td>10</td>\n",
              "      <td>2</td>\n",
              "      <td>2</td>\n",
              "      <td>0</td>\n",
              "      <td>12</td>\n",
              "      <td>0</td>\n",
              "      <td>0</td>\n",
              "      <td>1422</td>\n",
              "    </tr>\n",
              "    <tr>\n",
              "      <th>3</th>\n",
              "      <td>0</td>\n",
              "      <td>55</td>\n",
              "      <td>10</td>\n",
              "      <td>2</td>\n",
              "      <td>2</td>\n",
              "      <td>0</td>\n",
              "      <td>12</td>\n",
              "      <td>14</td>\n",
              "      <td>0</td>\n",
              "      <td>1057</td>\n",
              "    </tr>\n",
              "    <tr>\n",
              "      <th>4</th>\n",
              "      <td>1</td>\n",
              "      <td>55</td>\n",
              "      <td>16</td>\n",
              "      <td>0</td>\n",
              "      <td>4</td>\n",
              "      <td>0</td>\n",
              "      <td>8</td>\n",
              "      <td>0</td>\n",
              "      <td>0</td>\n",
              "      <td>7969</td>\n",
              "    </tr>\n",
              "    <tr>\n",
              "      <th>...</th>\n",
              "      <td>...</td>\n",
              "      <td>...</td>\n",
              "      <td>...</td>\n",
              "      <td>...</td>\n",
              "      <td>...</td>\n",
              "      <td>...</td>\n",
              "      <td>...</td>\n",
              "      <td>...</td>\n",
              "      <td>...</td>\n",
              "      <td>...</td>\n",
              "    </tr>\n",
              "    <tr>\n",
              "      <th>550063</th>\n",
              "      <td>1</td>\n",
              "      <td>53</td>\n",
              "      <td>13</td>\n",
              "      <td>1</td>\n",
              "      <td>1</td>\n",
              "      <td>1</td>\n",
              "      <td>20</td>\n",
              "      <td>0</td>\n",
              "      <td>0</td>\n",
              "      <td>368</td>\n",
              "    </tr>\n",
              "    <tr>\n",
              "      <th>550064</th>\n",
              "      <td>0</td>\n",
              "      <td>30</td>\n",
              "      <td>1</td>\n",
              "      <td>0</td>\n",
              "      <td>3</td>\n",
              "      <td>0</td>\n",
              "      <td>20</td>\n",
              "      <td>0</td>\n",
              "      <td>0</td>\n",
              "      <td>371</td>\n",
              "    </tr>\n",
              "    <tr>\n",
              "      <th>550065</th>\n",
              "      <td>0</td>\n",
              "      <td>30</td>\n",
              "      <td>15</td>\n",
              "      <td>1</td>\n",
              "      <td>4</td>\n",
              "      <td>1</td>\n",
              "      <td>20</td>\n",
              "      <td>0</td>\n",
              "      <td>0</td>\n",
              "      <td>137</td>\n",
              "    </tr>\n",
              "    <tr>\n",
              "      <th>550066</th>\n",
              "      <td>0</td>\n",
              "      <td>55</td>\n",
              "      <td>1</td>\n",
              "      <td>0</td>\n",
              "      <td>2</td>\n",
              "      <td>0</td>\n",
              "      <td>20</td>\n",
              "      <td>0</td>\n",
              "      <td>0</td>\n",
              "      <td>365</td>\n",
              "    </tr>\n",
              "    <tr>\n",
              "      <th>550067</th>\n",
              "      <td>0</td>\n",
              "      <td>48</td>\n",
              "      <td>0</td>\n",
              "      <td>1</td>\n",
              "      <td>4</td>\n",
              "      <td>1</td>\n",
              "      <td>20</td>\n",
              "      <td>0</td>\n",
              "      <td>0</td>\n",
              "      <td>490</td>\n",
              "    </tr>\n",
              "  </tbody>\n",
              "</table>\n",
              "<p>550068 rows × 10 columns</p>\n",
              "</div>"
            ],
            "text/plain": [
              "        Gender  Age  ...  Product_Category_3  Purchase\n",
              "0            0   55  ...                   0      8370\n",
              "1            0   55  ...                  14     15200\n",
              "2            0   55  ...                   0      1422\n",
              "3            0   55  ...                   0      1057\n",
              "4            1   55  ...                   0      7969\n",
              "...        ...  ...  ...                 ...       ...\n",
              "550063       1   53  ...                   0       368\n",
              "550064       0   30  ...                   0       371\n",
              "550065       0   30  ...                   0       137\n",
              "550066       0   55  ...                   0       365\n",
              "550067       0   48  ...                   0       490\n",
              "\n",
              "[550068 rows x 10 columns]"
            ]
          },
          "metadata": {
            "tags": []
          },
          "execution_count": 3
        }
      ]
    },
    {
      "cell_type": "markdown",
      "metadata": {
        "id": "kTqW6BO4uOwE",
        "colab_type": "text"
      },
      "source": [
        "Here we are going to import the dataset that we cleaned in the first notebook."
      ]
    },
    {
      "cell_type": "code",
      "metadata": {
        "id": "Nb9NTrsEeTSY",
        "colab_type": "code",
        "outputId": "d857121b-b462-4502-f641-c2704c462ec2",
        "colab": {
          "base_uri": "https://localhost:8080/",
          "height": 202
        }
      },
      "source": [
        "data.isnull().any()"
      ],
      "execution_count": 4,
      "outputs": [
        {
          "output_type": "execute_result",
          "data": {
            "text/plain": [
              "Gender                        False\n",
              "Age                           False\n",
              "Occupation                    False\n",
              "City_Category                 False\n",
              "Stay_In_Current_City_Years    False\n",
              "Marital_Status                False\n",
              "Product_Category_1            False\n",
              "Product_Category_2            False\n",
              "Product_Category_3            False\n",
              "Purchase                      False\n",
              "dtype: bool"
            ]
          },
          "metadata": {
            "tags": []
          },
          "execution_count": 4
        }
      ]
    },
    {
      "cell_type": "markdown",
      "metadata": {
        "id": "5rJl-VxGucCI",
        "colab_type": "text"
      },
      "source": [
        "Just to verify if there are any null values in our dataset after cleaning, we use isnull().any()"
      ]
    },
    {
      "cell_type": "markdown",
      "metadata": {
        "id": "oUp4PH4WvNum",
        "colab_type": "text"
      },
      "source": [
        "## Pearson Correlation between the target and rest of the features"
      ]
    },
    {
      "cell_type": "code",
      "metadata": {
        "id": "_879eFmVho_D",
        "colab_type": "code",
        "outputId": "1d02ced4-1f47-4cd5-b270-94fd54e207bd",
        "colab": {
          "base_uri": "https://localhost:8080/",
          "height": 737
        }
      },
      "source": [
        "corrdf = data.corr('pearson')\n",
        "\n",
        "fig, ax = plt.subplots(figsize=(10,10)) \n",
        "sns.heatmap(corrdf, annot=True, linewidths=.5, ax=ax)"
      ],
      "execution_count": 5,
      "outputs": [
        {
          "output_type": "execute_result",
          "data": {
            "text/plain": [
              "<matplotlib.axes._subplots.AxesSubplot at 0x7f8dfae3deb8>"
            ]
          },
          "metadata": {
            "tags": []
          },
          "execution_count": 5
        },
        {
          "output_type": "display_data",
          "data": {
            "image/png": "[encoded data removed]",
            "text/plain": [
              "<Figure size 720x720 with 2 Axes>"
            ]
          },
          "metadata": {
            "tags": [],
            "needs_background": "light"
          }
        }
      ]
    },
    {
      "cell_type": "code",
      "metadata": {
        "id": "IRax8N0dh49e",
        "colab_type": "code",
        "outputId": "2e75e280-1082-4d16-af2f-9f7fca4d0cf6",
        "colab": {
          "base_uri": "https://localhost:8080/",
          "height": 202
        }
      },
      "source": [
        "abs(data.corr(\"pearson\")[\"Purchase\"]).sort_values(ascending = False)"
      ],
      "execution_count": 6,
      "outputs": [
        {
          "output_type": "execute_result",
          "data": {
            "text/plain": [
              "Purchase                      1.000000\n",
              "Product_Category_1            0.343703\n",
              "Product_Category_3            0.288501\n",
              "City_Category                 0.061914\n",
              "Gender                        0.060346\n",
              "Product_Category_2            0.052288\n",
              "Age                           0.038553\n",
              "Occupation                    0.020833\n",
              "Stay_In_Current_City_Years    0.005422\n",
              "Marital_Status                0.000463\n",
              "Name: Purchase, dtype: float64"
            ]
          },
          "metadata": {
            "tags": []
          },
          "execution_count": 6
        }
      ]
    },
    {
      "cell_type": "markdown",
      "metadata": {
        "id": "BM50qgMfuyuz",
        "colab_type": "text"
      },
      "source": [
        "Using the heatmap, and pearson correlation we try to find the linear correlation between each feature and the target. A few observations such as Product Category 1 attribute being negatively correlated, Occupation and Stay in Current Years being positively correlated can be seen."
      ]
    },
    {
      "cell_type": "markdown",
      "metadata": {
        "id": "OWkzGkA8wKUz",
        "colab_type": "text"
      },
      "source": [
        "## Normalizing the features"
      ]
    },
    {
      "cell_type": "markdown",
      "metadata": {
        "id": "WKhSw4LSwbKf",
        "colab_type": "text"
      },
      "source": [
        "We will be using MinMaxScaler to bring each data point within the values of 0 and 1."
      ]
    },
    {
      "cell_type": "code",
      "metadata": {
        "id": "zly7j4MjwkgZ",
        "colab_type": "code",
        "colab": {}
      },
      "source": [
        "scaler = MinMaxScaler()\n",
        "dff = pd.DataFrame(scaler.fit_transform(data), columns = data.columns)"
      ],
      "execution_count": 0,
      "outputs": []
    },
    {
      "cell_type": "code",
      "metadata": {
        "id": "SFwKmoAzj52H",
        "colab_type": "code",
        "outputId": "6cee0524-1341-413b-ad96-528066d2a4c5",
        "colab": {
          "base_uri": "https://localhost:8080/",
          "height": 422
        }
      },
      "source": [
        "dff"
      ],
      "execution_count": 8,
      "outputs": [
        {
          "output_type": "execute_result",
          "data": {
            "text/html": [
              "<div>\n",
              "<style scoped>\n",
              "    .dataframe tbody tr th:only-of-type {\n",
              "        vertical-align: middle;\n",
              "    }\n",
              "\n",
              "    .dataframe tbody tr th {\n",
              "        vertical-align: top;\n",
              "    }\n",
              "\n",
              "    .dataframe thead th {\n",
              "        text-align: right;\n",
              "    }\n",
              "</style>\n",
              "<table border=\"1\" class=\"dataframe\">\n",
              "  <thead>\n",
              "    <tr style=\"text-align: right;\">\n",
              "      <th></th>\n",
              "      <th>Gender</th>\n",
              "      <th>Age</th>\n",
              "      <th>Occupation</th>\n",
              "      <th>City_Category</th>\n",
              "      <th>Stay_In_Current_City_Years</th>\n",
              "      <th>Marital_Status</th>\n",
              "      <th>Product_Category_1</th>\n",
              "      <th>Product_Category_2</th>\n",
              "      <th>Product_Category_3</th>\n",
              "      <th>Purchase</th>\n",
              "    </tr>\n",
              "  </thead>\n",
              "  <tbody>\n",
              "    <tr>\n",
              "      <th>0</th>\n",
              "      <td>0.0</td>\n",
              "      <td>1.000000</td>\n",
              "      <td>0.50</td>\n",
              "      <td>1.0</td>\n",
              "      <td>0.50</td>\n",
              "      <td>0.0</td>\n",
              "      <td>0.105263</td>\n",
              "      <td>0.000000</td>\n",
              "      <td>0.000000</td>\n",
              "      <td>0.348992</td>\n",
              "    </tr>\n",
              "    <tr>\n",
              "      <th>1</th>\n",
              "      <td>0.0</td>\n",
              "      <td>1.000000</td>\n",
              "      <td>0.50</td>\n",
              "      <td>1.0</td>\n",
              "      <td>0.50</td>\n",
              "      <td>0.0</td>\n",
              "      <td>0.000000</td>\n",
              "      <td>0.333333</td>\n",
              "      <td>0.777778</td>\n",
              "      <td>0.634181</td>\n",
              "    </tr>\n",
              "    <tr>\n",
              "      <th>2</th>\n",
              "      <td>0.0</td>\n",
              "      <td>1.000000</td>\n",
              "      <td>0.50</td>\n",
              "      <td>1.0</td>\n",
              "      <td>0.50</td>\n",
              "      <td>0.0</td>\n",
              "      <td>0.578947</td>\n",
              "      <td>0.000000</td>\n",
              "      <td>0.000000</td>\n",
              "      <td>0.058875</td>\n",
              "    </tr>\n",
              "    <tr>\n",
              "      <th>3</th>\n",
              "      <td>0.0</td>\n",
              "      <td>1.000000</td>\n",
              "      <td>0.50</td>\n",
              "      <td>1.0</td>\n",
              "      <td>0.50</td>\n",
              "      <td>0.0</td>\n",
              "      <td>0.578947</td>\n",
              "      <td>0.777778</td>\n",
              "      <td>0.000000</td>\n",
              "      <td>0.043634</td>\n",
              "    </tr>\n",
              "    <tr>\n",
              "      <th>4</th>\n",
              "      <td>1.0</td>\n",
              "      <td>1.000000</td>\n",
              "      <td>0.80</td>\n",
              "      <td>0.0</td>\n",
              "      <td>1.00</td>\n",
              "      <td>0.0</td>\n",
              "      <td>0.368421</td>\n",
              "      <td>0.000000</td>\n",
              "      <td>0.000000</td>\n",
              "      <td>0.332248</td>\n",
              "    </tr>\n",
              "    <tr>\n",
              "      <th>...</th>\n",
              "      <td>...</td>\n",
              "      <td>...</td>\n",
              "      <td>...</td>\n",
              "      <td>...</td>\n",
              "      <td>...</td>\n",
              "      <td>...</td>\n",
              "      <td>...</td>\n",
              "      <td>...</td>\n",
              "      <td>...</td>\n",
              "      <td>...</td>\n",
              "    </tr>\n",
              "    <tr>\n",
              "      <th>550063</th>\n",
              "      <td>1.0</td>\n",
              "      <td>0.955556</td>\n",
              "      <td>0.65</td>\n",
              "      <td>0.5</td>\n",
              "      <td>0.25</td>\n",
              "      <td>1.0</td>\n",
              "      <td>1.000000</td>\n",
              "      <td>0.000000</td>\n",
              "      <td>0.000000</td>\n",
              "      <td>0.014865</td>\n",
              "    </tr>\n",
              "    <tr>\n",
              "      <th>550064</th>\n",
              "      <td>0.0</td>\n",
              "      <td>0.444444</td>\n",
              "      <td>0.05</td>\n",
              "      <td>0.0</td>\n",
              "      <td>0.75</td>\n",
              "      <td>0.0</td>\n",
              "      <td>1.000000</td>\n",
              "      <td>0.000000</td>\n",
              "      <td>0.000000</td>\n",
              "      <td>0.014990</td>\n",
              "    </tr>\n",
              "    <tr>\n",
              "      <th>550065</th>\n",
              "      <td>0.0</td>\n",
              "      <td>0.444444</td>\n",
              "      <td>0.75</td>\n",
              "      <td>0.5</td>\n",
              "      <td>1.00</td>\n",
              "      <td>1.0</td>\n",
              "      <td>1.000000</td>\n",
              "      <td>0.000000</td>\n",
              "      <td>0.000000</td>\n",
              "      <td>0.005219</td>\n",
              "    </tr>\n",
              "    <tr>\n",
              "      <th>550066</th>\n",
              "      <td>0.0</td>\n",
              "      <td>1.000000</td>\n",
              "      <td>0.05</td>\n",
              "      <td>0.0</td>\n",
              "      <td>0.50</td>\n",
              "      <td>0.0</td>\n",
              "      <td>1.000000</td>\n",
              "      <td>0.000000</td>\n",
              "      <td>0.000000</td>\n",
              "      <td>0.014740</td>\n",
              "    </tr>\n",
              "    <tr>\n",
              "      <th>550067</th>\n",
              "      <td>0.0</td>\n",
              "      <td>0.844444</td>\n",
              "      <td>0.00</td>\n",
              "      <td>0.5</td>\n",
              "      <td>1.00</td>\n",
              "      <td>1.0</td>\n",
              "      <td>1.000000</td>\n",
              "      <td>0.000000</td>\n",
              "      <td>0.000000</td>\n",
              "      <td>0.019959</td>\n",
              "    </tr>\n",
              "  </tbody>\n",
              "</table>\n",
              "<p>550068 rows × 10 columns</p>\n",
              "</div>"
            ],
            "text/plain": [
              "        Gender       Age  ...  Product_Category_3  Purchase\n",
              "0          0.0  1.000000  ...            0.000000  0.348992\n",
              "1          0.0  1.000000  ...            0.777778  0.634181\n",
              "2          0.0  1.000000  ...            0.000000  0.058875\n",
              "3          0.0  1.000000  ...            0.000000  0.043634\n",
              "4          1.0  1.000000  ...            0.000000  0.332248\n",
              "...        ...       ...  ...                 ...       ...\n",
              "550063     1.0  0.955556  ...            0.000000  0.014865\n",
              "550064     0.0  0.444444  ...            0.000000  0.014990\n",
              "550065     0.0  0.444444  ...            0.000000  0.005219\n",
              "550066     0.0  1.000000  ...            0.000000  0.014740\n",
              "550067     0.0  0.844444  ...            0.000000  0.019959\n",
              "\n",
              "[550068 rows x 10 columns]"
            ]
          },
          "metadata": {
            "tags": []
          },
          "execution_count": 8
        }
      ]
    },
    {
      "cell_type": "code",
      "metadata": {
        "id": "9nfm_H3AifGW",
        "colab_type": "code",
        "colab": {}
      },
      "source": [
        "features = dff[[\"Product_Category_1\",\"Product_Category_3\", \"City_Category\", \"Gender\", \"Product_Category_2\"]].values\n",
        "target = dff['Purchase'].values"
      ],
      "execution_count": 0,
      "outputs": []
    },
    {
      "cell_type": "markdown",
      "metadata": {
        "id": "6o_1hOW019mx",
        "colab_type": "text"
      },
      "source": [
        "I am choosing these respective features after trial and error, so that they give a better value of test accuracy at the end. "
      ]
    },
    {
      "cell_type": "code",
      "metadata": {
        "id": "hyrutanv4WcZ",
        "colab_type": "code",
        "colab": {}
      },
      "source": [
        "xtrain, xtest, ytrain, ytest = train_test_split(features, target, test_size = 0.2)"
      ],
      "execution_count": 0,
      "outputs": []
    },
    {
      "cell_type": "markdown",
      "metadata": {
        "id": "GR-oddw-2Ugd",
        "colab_type": "text"
      },
      "source": [
        "We will use Train Test Split to get our respective train and test data."
      ]
    },
    {
      "cell_type": "markdown",
      "metadata": {
        "id": "3rJDkBlk2u8S",
        "colab_type": "text"
      },
      "source": [
        "## Model Training"
      ]
    },
    {
      "cell_type": "markdown",
      "metadata": {
        "id": "4MT58zWw2yp9",
        "colab_type": "text"
      },
      "source": [
        "Using our train and test data, we will now use 4 different methods of model training:\n",
        "\n",
        "1. Linear Regression\n",
        "2. Random Forest\n",
        "3. Decision Tree\n",
        "4. Gradient Boosting\n",
        "\n"
      ]
    },
    {
      "cell_type": "markdown",
      "metadata": {
        "id": "H98fDTw-MLNo",
        "colab_type": "text"
      },
      "source": [
        "### 1. Linear Regression"
      ]
    },
    {
      "cell_type": "code",
      "metadata": {
        "id": "c6KW5cc7MKxh",
        "colab_type": "code",
        "outputId": "a96ccb36-ad2e-4b27-d431-d97cb70d23c7",
        "colab": {
          "base_uri": "https://localhost:8080/",
          "height": 34
        }
      },
      "source": [
        "lr = LinearRegression()\n",
        "lr.fit(xtrain,ytrain)\n",
        "ypred = lr.predict(xtest)\n",
        "metrics.mean_absolute_error(ytest,ypred)"
      ],
      "execution_count": 11,
      "outputs": [
        {
          "output_type": "execute_result",
          "data": {
            "text/plain": [
              "0.14699073633608867"
            ]
          },
          "metadata": {
            "tags": []
          },
          "execution_count": 11
        }
      ]
    },
    {
      "cell_type": "code",
      "metadata": {
        "id": "TIe_ZlBYMzhv",
        "colab_type": "code",
        "outputId": "c423e714-4dcd-4763-9c1e-f4566d636cca",
        "colab": {
          "base_uri": "https://localhost:8080/",
          "height": 50
        }
      },
      "source": [
        "print(\"Accuracy of Linear Regression on train set is: \",lr.score(xtrain,ytrain)*100)\n",
        "print(\"Accuracy of Linear Regression on test set is: \",lr.score(xtest,ytest)*100)"
      ],
      "execution_count": 12,
      "outputs": [
        {
          "output_type": "stream",
          "text": [
            "Accuracy of Linear Regression on train set is:  15.189956233931468\n",
            "Accuracy of Linear Regression on test set is:  14.915142001848858\n"
          ],
          "name": "stdout"
        }
      ]
    },
    {
      "cell_type": "markdown",
      "metadata": {
        "id": "Ebw2_vnH36kS",
        "colab_type": "text"
      },
      "source": [
        "As we can see, Linear Regression does not give a good accuracy at all, with highest of 15%, and an MSE or 0.14."
      ]
    },
    {
      "cell_type": "markdown",
      "metadata": {
        "id": "9GRozm1xCsH5",
        "colab_type": "text"
      },
      "source": [
        "### 2. Random Forest"
      ]
    },
    {
      "cell_type": "code",
      "metadata": {
        "id": "2pfXbm8i9j3x",
        "colab_type": "code",
        "outputId": "580e6d6c-5c79-4693-82a1-08ad169f1903",
        "colab": {
          "base_uri": "https://localhost:8080/",
          "height": 34
        }
      },
      "source": [
        "rfr = RandomForestRegressor(max_leaf_nodes=1200)\n",
        "rfr.fit(xtrain, ytrain)\n",
        "ypred1 = rfr.predict(xtest)\n",
        "metrics.mean_absolute_error(ytest,ypred1)"
      ],
      "execution_count": 13,
      "outputs": [
        {
          "output_type": "execute_result",
          "data": {
            "text/plain": [
              "0.09148673203550609"
            ]
          },
          "metadata": {
            "tags": []
          },
          "execution_count": 13
        }
      ]
    },
    {
      "cell_type": "code",
      "metadata": {
        "id": "XyaUG3RWpbah",
        "colab_type": "code",
        "colab": {
          "base_uri": "https://localhost:8080/",
          "height": 50
        },
        "outputId": "10214179-a7e9-490c-d187-7fc35a4d1a5c"
      },
      "source": [
        "ytest"
      ],
      "execution_count": 14,
      "outputs": [
        {
          "output_type": "execute_result",
          "data": {
            "text/plain": [
              "array([0.21833897, 0.32686125, 0.29475135, ..., 0.32807215, 0.65242808,\n",
              "       0.48695144])"
            ]
          },
          "metadata": {
            "tags": []
          },
          "execution_count": 14
        }
      ]
    },
    {
      "cell_type": "code",
      "metadata": {
        "id": "JXtOSRRepeUy",
        "colab_type": "code",
        "colab": {
          "base_uri": "https://localhost:8080/",
          "height": 50
        },
        "outputId": "b41229fa-50b1-4b22-ebdc-8a04aea4a4a6"
      },
      "source": [
        "ypred1"
      ],
      "execution_count": 15,
      "outputs": [
        {
          "output_type": "execute_result",
          "data": {
            "text/plain": [
              "array([0.24809349, 0.30637157, 0.25355327, ..., 0.56239476, 0.52794613,\n",
              "       0.54006512])"
            ]
          },
          "metadata": {
            "tags": []
          },
          "execution_count": 15
        }
      ]
    },
    {
      "cell_type": "code",
      "metadata": {
        "id": "spPymjKPAYwp",
        "colab_type": "code",
        "outputId": "8d5bff74-9dcb-4103-c961-1104e10dc1a2",
        "colab": {
          "base_uri": "https://localhost:8080/",
          "height": 50
        }
      },
      "source": [
        "print(\"Accuracy of Random Forests on train set is: \",rfr.score(xtrain,ytrain)*100)\n",
        "print(\"Accuracy of Random Forests on test set is: \",rfr.score(xtest,ytest)*100)"
      ],
      "execution_count": 17,
      "outputs": [
        {
          "output_type": "stream",
          "text": [
            "Accuracy of Random Forests on train set is:  66.32358014900872\n",
            "Accuracy of Random Forests on test set is:  65.93239861021556\n"
          ],
          "name": "stdout"
        }
      ]
    },
    {
      "cell_type": "markdown",
      "metadata": {
        "id": "EPNi8G7K4Upd",
        "colab_type": "text"
      },
      "source": [
        "After a lot of trial and error, I was able to bring up the test accuracy to 65.93%, with an MSE of 0.091. We also observe that the error decrased from Linear Regression to Random Forest, while the accuracies for both test and train increased."
      ]
    },
    {
      "cell_type": "markdown",
      "metadata": {
        "id": "YiD-PVziCxk1",
        "colab_type": "text"
      },
      "source": [
        "### 3. Decision Tree"
      ]
    },
    {
      "cell_type": "code",
      "metadata": {
        "id": "-AEu0zQiCwUR",
        "colab_type": "code",
        "outputId": "e9b0d4b2-a82f-4a18-ceb8-9cbcfc82cf8e",
        "colab": {
          "base_uri": "https://localhost:8080/",
          "height": 34
        }
      },
      "source": [
        "dtr = DecisionTreeRegressor()\n",
        "dtr.fit(xtrain, ytrain)\n",
        "ypred2 = dtr.predict(xtest)\n",
        "metrics.mean_absolute_error(ytest,ypred2)\n"
      ],
      "execution_count": 18,
      "outputs": [
        {
          "output_type": "execute_result",
          "data": {
            "text/plain": [
              "0.09148792777694059"
            ]
          },
          "metadata": {
            "tags": []
          },
          "execution_count": 18
        }
      ]
    },
    {
      "cell_type": "code",
      "metadata": {
        "id": "mBtIstlCpqNf",
        "colab_type": "code",
        "colab": {
          "base_uri": "https://localhost:8080/",
          "height": 50
        },
        "outputId": "d25e9440-7e19-4ea4-cd1e-a96365e268ae"
      },
      "source": [
        "ytest"
      ],
      "execution_count": 19,
      "outputs": [
        {
          "output_type": "execute_result",
          "data": {
            "text/plain": [
              "array([0.21833897, 0.32686125, 0.29475135, ..., 0.32807215, 0.65242808,\n",
              "       0.48695144])"
            ]
          },
          "metadata": {
            "tags": []
          },
          "execution_count": 19
        }
      ]
    },
    {
      "cell_type": "code",
      "metadata": {
        "id": "CC3ljCh-pr4V",
        "colab_type": "code",
        "colab": {
          "base_uri": "https://localhost:8080/",
          "height": 50
        },
        "outputId": "26679e32-08b7-4aa0-f6de-d0390dc729cd"
      },
      "source": [
        "ypred2"
      ],
      "execution_count": 20,
      "outputs": [
        {
          "output_type": "execute_result",
          "data": {
            "text/plain": [
              "array([0.24788501, 0.30654245, 0.2532075 , ..., 0.56213536, 0.5278483 ,\n",
              "       0.53973811])"
            ]
          },
          "metadata": {
            "tags": []
          },
          "execution_count": 20
        }
      ]
    },
    {
      "cell_type": "code",
      "metadata": {
        "id": "XCIgZUvEEOnR",
        "colab_type": "code",
        "outputId": "ac43016e-24f9-4467-df4a-009f18c5e741",
        "colab": {
          "base_uri": "https://localhost:8080/",
          "height": 50
        }
      },
      "source": [
        "print(\"Accuracy of Decision tree on train set is: \",dtr.score(xtrain,ytrain)*100)\n",
        "print(\"Accuracy of Decision tree on test set is: \",dtr.score(xtest,ytest)*100)"
      ],
      "execution_count": 21,
      "outputs": [
        {
          "output_type": "stream",
          "text": [
            "Accuracy of Decision tree on train set is:  66.32519477827691\n",
            "Accuracy of Decision tree on test set is:  65.9342091819476\n"
          ],
          "name": "stdout"
        }
      ]
    },
    {
      "cell_type": "markdown",
      "metadata": {
        "id": "3JGi5muR47le",
        "colab_type": "text"
      },
      "source": [
        "After training the Decision Tree model, we observe that the MSE value and the accuracies are not that different from those of Random Forest."
      ]
    },
    {
      "cell_type": "markdown",
      "metadata": {
        "id": "ztwb8bsGffI3",
        "colab_type": "text"
      },
      "source": [
        "### 4. Gradient Boosting"
      ]
    },
    {
      "cell_type": "code",
      "metadata": {
        "id": "4uhF95wH7ZkZ",
        "colab_type": "code",
        "outputId": "d71751ab-b917-4c86-a702-faa9b7ed2a44",
        "colab": {
          "base_uri": "https://localhost:8080/",
          "height": 34
        }
      },
      "source": [
        "gbr = GradientBoostingRegressor()\n",
        "gbr.fit(xtrain,ytrain)\n",
        "ypred3 = gbr.predict(xtest)\n",
        "metrics.mean_absolute_error(ytest,ypred3)"
      ],
      "execution_count": 22,
      "outputs": [
        {
          "output_type": "execute_result",
          "data": {
            "text/plain": [
              "0.09443777754403088"
            ]
          },
          "metadata": {
            "tags": []
          },
          "execution_count": 22
        }
      ]
    },
    {
      "cell_type": "code",
      "metadata": {
        "id": "PBWQdzdmp0YG",
        "colab_type": "code",
        "colab": {
          "base_uri": "https://localhost:8080/",
          "height": 50
        },
        "outputId": "ceb51034-ce28-4f73-f536-99f7b7cff350"
      },
      "source": [
        "ytest"
      ],
      "execution_count": 23,
      "outputs": [
        {
          "output_type": "execute_result",
          "data": {
            "text/plain": [
              "array([0.21833897, 0.32686125, 0.29475135, ..., 0.32807215, 0.65242808,\n",
              "       0.48695144])"
            ]
          },
          "metadata": {
            "tags": []
          },
          "execution_count": 23
        }
      ]
    },
    {
      "cell_type": "code",
      "metadata": {
        "id": "h5WC1AQQp2Vd",
        "colab_type": "code",
        "colab": {
          "base_uri": "https://localhost:8080/",
          "height": 50
        },
        "outputId": "dc838ad9-be55-4aa7-c751-7e809c9683fb"
      },
      "source": [
        "ypred3"
      ],
      "execution_count": 24,
      "outputs": [
        {
          "output_type": "execute_result",
          "data": {
            "text/plain": [
              "array([0.27779306, 0.30749852, 0.25507114, ..., 0.59518842, 0.54615189,\n",
              "       0.54529712])"
            ]
          },
          "metadata": {
            "tags": []
          },
          "execution_count": 24
        }
      ]
    },
    {
      "cell_type": "code",
      "metadata": {
        "id": "MbxUoNv8gFO9",
        "colab_type": "code",
        "outputId": "655331de-4eb6-4f75-cbe8-13f99d60373f",
        "colab": {
          "base_uri": "https://localhost:8080/",
          "height": 50
        }
      },
      "source": [
        "print(\"Accuracy of Gradient Boosting on train set is: \",gbr.score(xtrain,ytrain)*100)\n",
        "print(\"Accuracy of Gradient Boosting on test set is: \",gbr.score(xtest,ytest)*100)"
      ],
      "execution_count": 25,
      "outputs": [
        {
          "output_type": "stream",
          "text": [
            "Accuracy of Gradient Boosting on train set is:  64.76804327045475\n",
            "Accuracy of Gradient Boosting on test set is:  64.52218002387201\n"
          ],
          "name": "stdout"
        }
      ]
    },
    {
      "cell_type": "markdown",
      "metadata": {
        "id": "AVwbtfjd54bx",
        "colab_type": "text"
      },
      "source": [
        "As seen above the accuracy values, and the MSE are almost similar to the previous two models. \n",
        "\n",
        "Even though Gradient Boosting and Random Forest follow different approches, they still have almost a similar output on this dataset."
      ]
    },
    {
      "cell_type": "markdown",
      "metadata": {
        "id": "rPDss3Nq3jcT",
        "colab_type": "text"
      },
      "source": [
        "## Summary of Model Training"
      ]
    },
    {
      "cell_type": "code",
      "metadata": {
        "id": "OplXloMDp6mo",
        "colab_type": "code",
        "colab": {
          "base_uri": "https://localhost:8080/",
          "height": 402
        },
        "outputId": "8ce6dbb0-af72-4522-dcc5-69593c5183a7"
      },
      "source": [
        "pd.DataFrame({\"Purchase\" : ytest, \"Linear Regression\" : ypred, \"Random Forest\" : ypred1, \"Decision Tree\" : ypred2, \"Gradient Boosting\" : ypred3})\n"
      ],
      "execution_count": 26,
      "outputs": [
        {
          "output_type": "execute_result",
          "data": {
            "text/html": [
              "<div>\n",
              "<style scoped>\n",
              "    .dataframe tbody tr th:only-of-type {\n",
              "        vertical-align: middle;\n",
              "    }\n",
              "\n",
              "    .dataframe tbody tr th {\n",
              "        vertical-align: top;\n",
              "    }\n",
              "\n",
              "    .dataframe thead th {\n",
              "        text-align: right;\n",
              "    }\n",
              "</style>\n",
              "<table border=\"1\" class=\"dataframe\">\n",
              "  <thead>\n",
              "    <tr style=\"text-align: right;\">\n",
              "      <th></th>\n",
              "      <th>Purchase</th>\n",
              "      <th>Linear Regression</th>\n",
              "      <th>Random Forest</th>\n",
              "      <th>Decision Tree</th>\n",
              "      <th>Gradient Boosting</th>\n",
              "    </tr>\n",
              "  </thead>\n",
              "  <tbody>\n",
              "    <tr>\n",
              "      <th>0</th>\n",
              "      <td>0.218339</td>\n",
              "      <td>0.472838</td>\n",
              "      <td>0.248093</td>\n",
              "      <td>0.247885</td>\n",
              "      <td>0.277793</td>\n",
              "    </tr>\n",
              "    <tr>\n",
              "      <th>1</th>\n",
              "      <td>0.326861</td>\n",
              "      <td>0.312009</td>\n",
              "      <td>0.306372</td>\n",
              "      <td>0.306542</td>\n",
              "      <td>0.307499</td>\n",
              "    </tr>\n",
              "    <tr>\n",
              "      <th>2</th>\n",
              "      <td>0.294751</td>\n",
              "      <td>0.335336</td>\n",
              "      <td>0.253553</td>\n",
              "      <td>0.253208</td>\n",
              "      <td>0.255071</td>\n",
              "    </tr>\n",
              "    <tr>\n",
              "      <th>3</th>\n",
              "      <td>0.170654</td>\n",
              "      <td>0.314397</td>\n",
              "      <td>0.302315</td>\n",
              "      <td>0.302553</td>\n",
              "      <td>0.317690</td>\n",
              "    </tr>\n",
              "    <tr>\n",
              "      <th>4</th>\n",
              "      <td>0.296296</td>\n",
              "      <td>0.369886</td>\n",
              "      <td>0.252432</td>\n",
              "      <td>0.252441</td>\n",
              "      <td>0.255762</td>\n",
              "    </tr>\n",
              "    <tr>\n",
              "      <th>...</th>\n",
              "      <td>...</td>\n",
              "      <td>...</td>\n",
              "      <td>...</td>\n",
              "      <td>...</td>\n",
              "      <td>...</td>\n",
              "    </tr>\n",
              "    <tr>\n",
              "      <th>110009</th>\n",
              "      <td>0.408660</td>\n",
              "      <td>0.334614</td>\n",
              "      <td>0.310771</td>\n",
              "      <td>0.310548</td>\n",
              "      <td>0.317690</td>\n",
              "    </tr>\n",
              "    <tr>\n",
              "      <th>110010</th>\n",
              "      <td>0.024218</td>\n",
              "      <td>0.342636</td>\n",
              "      <td>0.027800</td>\n",
              "      <td>0.026754</td>\n",
              "      <td>0.027213</td>\n",
              "    </tr>\n",
              "    <tr>\n",
              "      <th>110011</th>\n",
              "      <td>0.328072</td>\n",
              "      <td>0.459079</td>\n",
              "      <td>0.562395</td>\n",
              "      <td>0.562135</td>\n",
              "      <td>0.595188</td>\n",
              "    </tr>\n",
              "    <tr>\n",
              "      <th>110012</th>\n",
              "      <td>0.652428</td>\n",
              "      <td>0.435700</td>\n",
              "      <td>0.527946</td>\n",
              "      <td>0.527848</td>\n",
              "      <td>0.546152</td>\n",
              "    </tr>\n",
              "    <tr>\n",
              "      <th>110013</th>\n",
              "      <td>0.486951</td>\n",
              "      <td>0.518942</td>\n",
              "      <td>0.540065</td>\n",
              "      <td>0.539738</td>\n",
              "      <td>0.545297</td>\n",
              "    </tr>\n",
              "  </tbody>\n",
              "</table>\n",
              "<p>110014 rows × 5 columns</p>\n",
              "</div>"
            ],
            "text/plain": [
              "        Purchase  Linear Regression  ...  Decision Tree  Gradient Boosting\n",
              "0       0.218339           0.472838  ...       0.247885           0.277793\n",
              "1       0.326861           0.312009  ...       0.306542           0.307499\n",
              "2       0.294751           0.335336  ...       0.253208           0.255071\n",
              "3       0.170654           0.314397  ...       0.302553           0.317690\n",
              "4       0.296296           0.369886  ...       0.252441           0.255762\n",
              "...          ...                ...  ...            ...                ...\n",
              "110009  0.408660           0.334614  ...       0.310548           0.317690\n",
              "110010  0.024218           0.342636  ...       0.026754           0.027213\n",
              "110011  0.328072           0.459079  ...       0.562135           0.595188\n",
              "110012  0.652428           0.435700  ...       0.527848           0.546152\n",
              "110013  0.486951           0.518942  ...       0.539738           0.545297\n",
              "\n",
              "[110014 rows x 5 columns]"
            ]
          },
          "metadata": {
            "tags": []
          },
          "execution_count": 26
        }
      ]
    },
    {
      "cell_type": "markdown",
      "metadata": {
        "id": "EWcLLy9H6lM2",
        "colab_type": "text"
      },
      "source": [
        "After training all the models, I have created a Data Frame which shows us the prediction values for the test data, compares with the actual normalised values of the \"Purchase\" feature."
      ]
    },
    {
      "cell_type": "code",
      "metadata": {
        "id": "BlwJ3DUUcLWe",
        "colab_type": "code",
        "outputId": "dba3ea85-c6f4-42ab-9954-ec18a9ca0ecb",
        "colab": {
          "base_uri": "https://localhost:8080/",
          "height": 573
        }
      },
      "source": [
        "models = ['Linear Regression', 'Random Forest', 'Decision Tree', \"Gradient Boosting\"]\n",
        "\n",
        "train_accuracy = [15, 67, 66, 65]\n",
        "plt.bar(models,train_accuracy)\n",
        "plt.title(\"Model vs Training Accuracy\")\n",
        "plt.xlabel(\"Models\")\n",
        "plt.ylabel(\"Training Accuracy\")\n",
        "plt.show()\n",
        "\n",
        "test_accuracy = [15, 66, 66, 64.5]\n",
        "plt.bar(models,test_accuracy)\n",
        "plt.title(\"Model vs Testing Accuracy\")\n",
        "plt.xlabel(\"Models\")\n",
        "plt.ylabel(\"Testing Accuracy\")\n",
        "plt.show()"
      ],
      "execution_count": 27,
      "outputs": [
        {
          "output_type": "display_data",
          "data": {
            "image/png": "[encoded data removed]",
            "text/plain": [
              "<Figure size 432x288 with 1 Axes>"
            ]
          },
          "metadata": {
            "tags": [],
            "needs_background": "light"
          }
        },
        {
          "output_type": "display_data",
          "data": {
            "image/png": "[encoded data removed]",
            "text/plain": [
              "<Figure size 432x288 with 1 Axes>"
            ]
          },
          "metadata": {
            "tags": [],
            "needs_background": "light"
          }
        }
      ]
    },
    {
      "cell_type": "markdown",
      "metadata": {
        "id": "ohjWm2Td67Cq",
        "colab_type": "text"
      },
      "source": [
        "Now when we plot a bar graph of all the accuracies of each model, we see that both training and tes accuracies don't differ that much, from both the same model, and different models, except for Linear Regression. This also goes to show us that for this particular Dataset, Linear Regression is not a suitable method for model training."
      ]
    },
    {
      "cell_type": "markdown",
      "metadata": {
        "id": "myUvhn3S3oLG",
        "colab_type": "text"
      },
      "source": [
        "## Conclusion"
      ]
    },
    {
      "cell_type": "markdown",
      "metadata": {
        "id": "bhgsvahYF8U6",
        "colab_type": "text"
      },
      "source": [
        "We have finally reached the end of this notebook, as well as the entire project. We finally  have a clear idea of how the various features present in this dataset affect the final purchase attribute, and how the different features compare with each other.\n",
        "\n",
        "During model training we also saw how each model gave almost the same result, the exception being Linear Regression. We know that both Gradient Boosting and Random forest uses the result of a single decision tree to build their prediction for the final output. We also know that they are seperately based on variance and bias. But we still observed that they gave similar results.\n",
        "\n",
        "We also observed that, more than the model training, there were many insights to this dataset, some of which we may not even have covered. The fact that a few features like Occupation and Product Categrories had numerical values without any explanantion to what they mean, made it difficult to extract more information. There may be better results using different approaches, or by changing a few hyper parameters as well. I shall upload them as and when possible."
      ]
    },
    {
      "cell_type": "code",
      "metadata": {
        "id": "Oe9c6Xv83qVn",
        "colab_type": "code",
        "colab": {}
      },
      "source": [
        "Final_Accuracy = pd.DataFrame({\"Linear Regression\" : [15.18, 14.91], \"Random Forest\" : [66.34,65.93], \"Decision Tree\" : [66.32,65.93], \"Gradient Boosting\" : [65.76,64.53]}, index = [\"Train Accuracy\",\"Test Accuracy\"])"
      ],
      "execution_count": 0,
      "outputs": []
    },
    {
      "cell_type": "code",
      "metadata": {
        "id": "1YKm5VTE8RSO",
        "colab_type": "code",
        "colab": {
          "base_uri": "https://localhost:8080/",
          "height": 106
        },
        "outputId": "243c76fc-1736-4281-fdd0-9cea4381433c"
      },
      "source": [
        "Final_Accuracy"
      ],
      "execution_count": 31,
      "outputs": [
        {
          "output_type": "execute_result",
          "data": {
            "text/html": [
              "<div>\n",
              "<style scoped>\n",
              "    .dataframe tbody tr th:only-of-type {\n",
              "        vertical-align: middle;\n",
              "    }\n",
              "\n",
              "    .dataframe tbody tr th {\n",
              "        vertical-align: top;\n",
              "    }\n",
              "\n",
              "    .dataframe thead th {\n",
              "        text-align: right;\n",
              "    }\n",
              "</style>\n",
              "<table border=\"1\" class=\"dataframe\">\n",
              "  <thead>\n",
              "    <tr style=\"text-align: right;\">\n",
              "      <th></th>\n",
              "      <th>Linear Regression</th>\n",
              "      <th>Random Forest</th>\n",
              "      <th>Decision Tree</th>\n",
              "      <th>Gradient Boosting</th>\n",
              "    </tr>\n",
              "  </thead>\n",
              "  <tbody>\n",
              "    <tr>\n",
              "      <th>Train Accuracy</th>\n",
              "      <td>15.18</td>\n",
              "      <td>66.34</td>\n",
              "      <td>66.32</td>\n",
              "      <td>65.76</td>\n",
              "    </tr>\n",
              "    <tr>\n",
              "      <th>Test Accuracy</th>\n",
              "      <td>14.91</td>\n",
              "      <td>65.93</td>\n",
              "      <td>65.93</td>\n",
              "      <td>64.53</td>\n",
              "    </tr>\n",
              "  </tbody>\n",
              "</table>\n",
              "</div>"
            ],
            "text/plain": [
              "                Linear Regression  ...  Gradient Boosting\n",
              "Train Accuracy              15.18  ...              65.76\n",
              "Test Accuracy               14.91  ...              64.53\n",
              "\n",
              "[2 rows x 4 columns]"
            ]
          },
          "metadata": {
            "tags": []
          },
          "execution_count": 31
        }
      ]
    },
    {
      "cell_type": "code",
      "metadata": {
        "id": "rKRStkrpTjDy",
        "colab_type": "code",
        "colab": {}
      },
      "source": [
        ""
      ],
      "execution_count": 0,
      "outputs": []
    }
  ]
}